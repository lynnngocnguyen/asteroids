{
 "cells": [
  {
   "cell_type": "code",
   "execution_count": 2,
   "metadata": {},
   "outputs": [],
   "source": [
    "%matplotlib inline\n",
    "import matplotlib.pylab as plt\n",
    "\n",
    "import numpy as np\n",
    "import pynbody as pb\n",
    "import astropy.units as u\n",
    "\n",
    "import KeplerOrbit as ko"
   ]
  },
  {
   "cell_type": "code",
   "execution_count": 3,
   "metadata": {},
   "outputs": [
    {
     "data": {
      "text/plain": [
       "[<matplotlib.lines.Line2D at 0x7ff59d8e2710>]"
      ]
     },
     "execution_count": 3,
     "metadata": {},
     "output_type": "execute_result"
    },
    {
     "data": {
      "image/png": "[encoded data removed]",
      "text/plain": [
       "<Figure size 432x288 with 1 Axes>"
      ]
     },
     "metadata": {
      "needs_background": "light"
     },
     "output_type": "display_data"
    }
   ],
   "source": [
    "times, max_mass, mean_mass, n_particles, stepnumber = np.loadtxt('../time_mass.txt')\n",
    "plt.loglog(stepnumber, max_mass, 'b', label='First Line')\n",
    "plt.loglog(stepnumber, mean_mass, 'g',label='second Line')"
   ]
  },
  {
   "cell_type": "code",
   "execution_count": 3,
   "metadata": {},
   "outputs": [
    {
     "data": {
      "text/plain": [
       "(array([2.68822237e+02, 5.37644474e+02, 8.06466711e+02, ...,\n",
       "        9.28512008e+05, 9.28780830e+05, 9.29049652e+05]),\n",
       " array([3.01738717e-10, 3.01738717e-10, 3.01738717e-10, ...,\n",
       "        1.14660716e-08, 1.14660716e-08, 1.14660716e-08]),\n",
       " array([1.51006637e-10, 1.51144166e-10, 1.51419977e-10, ...,\n",
       "        6.23895844e-10, 6.26250169e-10, 6.26250169e-10]),\n",
       " array([1099., 1098., 1096., ...,  266.,  265.,  265.]),\n",
       " array([1.000e+04, 2.000e+04, 3.000e+04, ..., 3.454e+07, 3.455e+07,\n",
       "        3.456e+07]))"
      ]
     },
     "execution_count": 3,
     "metadata": {},
     "output_type": "execute_result"
    }
   ],
   "source": [
    "times, max_mass, mean_mass, n_particles, stepnumber "
   ]
  },
  {
   "cell_type": "code",
   "execution_count": 4,
   "metadata": {},
   "outputs": [
    {
     "data": {
      "text/plain": [
       "array([1.000e+04, 2.000e+04, 3.000e+04, ..., 3.454e+07, 3.455e+07,\n",
       "       3.456e+07])"
      ]
     },
     "execution_count": 4,
     "metadata": {},
     "output_type": "execute_result"
    }
   ],
   "source": [
    "stepnumber"
   ]
  },
  {
   "cell_type": "code",
   "execution_count": 5,
   "metadata": {},
   "outputs": [
    {
     "data": {
      "text/plain": [
       "array([3.01738717e-10, 3.01738717e-10, 3.01738717e-10, ...,\n",
       "       1.14660716e-08, 1.14660716e-08, 1.14660716e-08])"
      ]
     },
     "execution_count": 5,
     "metadata": {},
     "output_type": "execute_result"
    }
   ],
   "source": [
    "max_mass"
   ]
  },
  {
   "cell_type": "code",
   "execution_count": null,
   "metadata": {},
   "outputs": [],
   "source": []
  },
  {
   "cell_type": "code",
   "execution_count": null,
   "metadata": {},
   "outputs": [],
   "source": []
  },
  {
   "cell_type": "code",
   "execution_count": null,
   "metadata": {},
   "outputs": [],
   "source": []
  },
  {
   "cell_type": "code",
   "execution_count": null,
   "metadata": {},
   "outputs": [],
   "source": []
  },
  {
   "cell_type": "code",
   "execution_count": null,
   "metadata": {},
   "outputs": [],
   "source": []
  },
  {
   "cell_type": "code",
   "execution_count": null,
   "metadata": {},
   "outputs": [],
   "source": []
  },
  {
   "cell_type": "code",
   "execution_count": null,
   "metadata": {},
   "outputs": [],
   "source": []
  }
 ],
 "metadata": {
  "kernelspec": {
   "display_name": "Python 3",
   "language": "python",
   "name": "python3"
  },
  "language_info": {
   "codemirror_mode": {
    "name": "ipython",
    "version": 3
   },
   "file_extension": ".py",
   "mimetype": "text/x-python",
   "name": "python",
   "nbconvert_exporter": "python",
   "pygments_lexer": "ipython3",
   "version": "3.7.4"
  }
 },
 "nbformat": 4,
 "nbformat_minor": 2
}
