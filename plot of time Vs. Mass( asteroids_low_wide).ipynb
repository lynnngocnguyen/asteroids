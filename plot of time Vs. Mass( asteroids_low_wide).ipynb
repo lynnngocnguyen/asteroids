{
 "cells": [
  {
   "cell_type": "code",
   "execution_count": 2,
   "metadata": {},
   "outputs": [],
   "source": [
    "%matplotlib inline\n",
    "import matplotlib.pylab as plt\n",
    "\n",
    "import numpy as np\n",
    "import pynbody as pb\n",
    "import astropy.units as u\n",
    "\n",
    "import KeplerOrbit as ko"
   ]
  },
  {
   "cell_type": "code",
   "execution_count": 3,
   "metadata": {},
   "outputs": [
    {
     "data": {
      "text/plain": [
       "[<matplotlib.lines.Line2D at 0x7ff3261b4790>]"
      ]
     },
     "execution_count": 3,
     "metadata": {},
     "output_type": "execute_result"
    },
    {
     "data": {
      "image/png": "[encoded data removed]",
      "text/plain": [
       "<Figure size 432x288 with 1 Axes>"
      ]
     },
     "metadata": {
      "needs_background": "light"
     },
     "output_type": "display_data"
    }
   ],
   "source": [
    "times, max_mass, mean_mass, n_particles, stepnumber = np.loadtxt('../time_mass_wide.txt')\n",
    "plt.loglog(stepnumber, max_mass, 'b', label='First Line')\n",
    "plt.loglog(stepnumber, mean_mass, 'g',label='second Line')"
   ]
  },
  {
   "cell_type": "code",
   "execution_count": 3,
   "metadata": {},
   "outputs": [
    {
     "data": {
      "text/plain": [
       "(array([2.64375463e+02, 5.28750925e+02, 7.93126388e+02, ...,\n",
       "        1.31368167e+06, 1.31394605e+06, 1.31421042e+06]),\n",
       " array([3.01738717e-10, 3.01738717e-10, 3.01738717e-10, ...,\n",
       "        7.95081547e-08, 7.95081547e-08, 7.95081547e-08]),\n",
       " array([1.51696796e-10, 1.52253481e-10, 1.53096213e-10, ...,\n",
       "        9.21979424e-09, 9.21979424e-09, 9.21979424e-09]),\n",
       " array([1094., 1090., 1084., ...,   18.,   18.,   18.]),\n",
       " array([1.000e+04, 2.000e+04, 3.000e+04, ..., 4.969e+07, 4.970e+07,\n",
       "        4.971e+07]))"
      ]
     },
     "execution_count": 3,
     "metadata": {},
     "output_type": "execute_result"
    }
   ],
   "source": [
    "times, max_mass, mean_mass, n_particles, stepnumber "
   ]
  },
  {
   "cell_type": "code",
   "execution_count": 4,
   "metadata": {},
   "outputs": [
    {
     "data": {
      "text/plain": [
       "array([1.000e+04, 2.000e+04, 3.000e+04, ..., 4.969e+07, 4.970e+07,\n",
       "       4.971e+07])"
      ]
     },
     "execution_count": 4,
     "metadata": {},
     "output_type": "execute_result"
    }
   ],
   "source": [
    "stepnumber"
   ]
  },
  {
   "cell_type": "code",
   "execution_count": 5,
   "metadata": {},
   "outputs": [
    {
     "data": {
      "text/plain": [
       "array([3.01738717e-10, 3.01738717e-10, 3.01738717e-10, ...,\n",
       "       7.95081547e-08, 7.95081547e-08, 7.95081547e-08])"
      ]
     },
     "execution_count": 5,
     "metadata": {},
     "output_type": "execute_result"
    }
   ],
   "source": [
    "max_mass"
   ]
  },
  {
   "cell_type": "code",
   "execution_count": null,
   "metadata": {},
   "outputs": [],
   "source": []
  },
  {
   "cell_type": "code",
   "execution_count": null,
   "metadata": {},
   "outputs": [],
   "source": []
  },
  {
   "cell_type": "code",
   "execution_count": null,
   "metadata": {},
   "outputs": [],
   "source": []
  },
  {
   "cell_type": "code",
   "execution_count": null,
   "metadata": {},
   "outputs": [],
   "source": []
  },
  {
   "cell_type": "code",
   "execution_count": null,
   "metadata": {},
   "outputs": [],
   "source": []
  },
  {
   "cell_type": "code",
   "execution_count": null,
   "metadata": {},
   "outputs": [],
   "source": []
  },
  {
   "cell_type": "code",
   "execution_count": null,
   "metadata": {},
   "outputs": [],
   "source": []
  }
 ],
 "metadata": {
  "kernelspec": {
   "display_name": "Python 3",
   "language": "python",
   "name": "python3"
  },
  "language_info": {
   "codemirror_mode": {
    "name": "ipython",
    "version": 3
   },
   "file_extension": ".py",
   "mimetype": "text/x-python",
   "name": "python",
   "nbconvert_exporter": "python",
   "pygments_lexer": "ipython3",
   "version": "3.7.4"
  }
 },
 "nbformat": 4,
 "nbformat_minor": 2
}
