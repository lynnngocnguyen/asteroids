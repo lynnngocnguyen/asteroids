{
 "cells": [
  {
   "cell_type": "code",
   "execution_count": 20,
   "metadata": {},
   "outputs": [],
   "source": [
    "%matplotlib inline\n",
    "import matplotlib.pylab as plt\n",
    "\n",
    "import numpy as np\n",
    "import pynbody as pb\n",
    "import astropy.units as u\n",
    "\n",
    "import KeplerOrbit as ko"
   ]
  },
  {
   "cell_type": "code",
   "execution_count": 21,
   "metadata": {},
   "outputs": [
    {
     "data": {
      "text/plain": [
       "[<matplotlib.lines.Line2D at 0x7f9c8a15db50>]"
      ]
     },
     "execution_count": 21,
     "metadata": {},
     "output_type": "execute_result"
    },
    {
     "data": {
      "image/png": "[encoded data removed]",
      "text/plain": [
       "<Figure size 432x288 with 1 Axes>"
      ]
     },
     "metadata": {
      "needs_background": "light"
     },
     "output_type": "display_data"
    }
   ],
   "source": [
    "times, max_mass, mean_mass, n_particles, stepnumber = np.loadtxt('time_mass_wide.txt')\n",
    "plt.loglog(times, max_mass, 'b', label='First Line')\n",
    "plt.loglog(times, mean_mass, 'g',label='second Line')"
   ]
  },
  {
   "cell_type": "code",
   "execution_count": 22,
   "metadata": {},
   "outputs": [
    {
     "data": {
      "text/plain": [
       "(array([ 264.37546251,  528.75092501,  793.12638752, 1057.50185003,\n",
       "        1321.87731253, 1586.25277504, 1850.62823754, 2115.00370005,\n",
       "        2379.37916255, 2643.75462506, 2908.13008756, 3172.50555007,\n",
       "        3436.88101257, 3701.25647508, 3965.63193758, 4230.00740009,\n",
       "        4494.38286259, 4758.7583251 , 5023.13378761, 5287.50925011,\n",
       "        5551.88471263, 5816.26017514, 6080.63563766]),\n",
       " array([4.52608062e-10, 4.52608062e-10, 4.52608062e-10, 4.52608062e-10,\n",
       "        4.52608062e-10, 4.52608062e-10, 4.52608062e-10, 4.52608062e-10,\n",
       "        4.52608062e-10, 6.03477435e-10, 6.03477435e-10, 6.03477435e-10,\n",
       "        6.03477435e-10, 6.03477435e-10, 6.03477435e-10, 6.03477435e-10,\n",
       "        6.03477435e-10, 6.03477435e-10, 6.03477435e-10, 6.03477435e-10,\n",
       "        6.03477435e-10, 6.03477435e-10, 6.03477435e-10]),\n",
       " array([1.51281946e-10, 1.51419977e-10, 1.51696796e-10, 1.51974629e-10,\n",
       "        1.52113927e-10, 1.52393292e-10, 1.52533359e-10, 1.52814268e-10,\n",
       "        1.52955110e-10, 1.53096213e-10, 1.53379200e-10, 1.53379200e-10,\n",
       "        1.53805648e-10, 1.53948325e-10, 1.54091267e-10, 1.54377948e-10,\n",
       "        1.54377948e-10, 1.54665699e-10, 1.55244429e-10, 1.55389789e-10,\n",
       "        1.55389789e-10, 1.55389789e-10, 1.55535421e-10]),\n",
       " array([1097., 1096., 1094., 1092., 1091., 1089., 1088., 1086., 1085.,\n",
       "        1084., 1082., 1082., 1079., 1078., 1077., 1075., 1075., 1073.,\n",
       "        1069., 1068., 1068., 1068., 1067.]),\n",
       " array([ 10000.,  20000.,  30000.,  40000.,  50000.,  60000.,  70000.,\n",
       "         80000.,  90000., 100000., 110000., 120000., 130000., 140000.,\n",
       "        150000., 160000., 170000., 180000., 190000., 200000., 210000.,\n",
       "        220000., 230000.]))"
      ]
     },
     "execution_count": 22,
     "metadata": {},
     "output_type": "execute_result"
    }
   ],
   "source": [
    "times, max_mass, mean_mass, n_particles, stepnumber "
   ]
  },
  {
   "cell_type": "code",
   "execution_count": 5,
   "metadata": {},
   "outputs": [
    {
     "data": {
      "text/plain": [
       "array([ 8670000.,  4150000., 24680000., 24000000.])"
      ]
     },
     "execution_count": 5,
     "metadata": {},
     "output_type": "execute_result"
    }
   ],
   "source": [
    "stepnumber"
   ]
  },
  {
   "cell_type": "code",
   "execution_count": 7,
   "metadata": {},
   "outputs": [
    {
     "data": {
      "text/plain": [
       "array([6.48738263e-09, 2.71564837e-09, 9.50476942e-09, 9.50476942e-09])"
      ]
     },
     "execution_count": 7,
     "metadata": {},
     "output_type": "execute_result"
    }
   ],
   "source": [
    "max_mass"
   ]
  },
  {
   "cell_type": "code",
   "execution_count": null,
   "metadata": {},
   "outputs": [],
   "source": []
  },
  {
   "cell_type": "code",
   "execution_count": null,
   "metadata": {},
   "outputs": [],
   "source": []
  },
  {
   "cell_type": "code",
   "execution_count": null,
   "metadata": {},
   "outputs": [],
   "source": []
  },
  {
   "cell_type": "code",
   "execution_count": null,
   "metadata": {},
   "outputs": [],
   "source": []
  },
  {
   "cell_type": "code",
   "execution_count": null,
   "metadata": {},
   "outputs": [],
   "source": []
  },
  {
   "cell_type": "code",
   "execution_count": null,
   "metadata": {},
   "outputs": [],
   "source": []
  },
  {
   "cell_type": "code",
   "execution_count": null,
   "metadata": {},
   "outputs": [],
   "source": []
  }
 ],
 "metadata": {
  "kernelspec": {
   "display_name": "Python 3",
   "language": "python",
   "name": "python3"
  },
  "language_info": {
   "codemirror_mode": {
    "name": "ipython",
    "version": 3
   },
   "file_extension": ".py",
   "mimetype": "text/x-python",
   "name": "python",
   "nbconvert_exporter": "python",
   "pygments_lexer": "ipython3",
   "version": "3.7.4"
  }
 },
 "nbformat": 4,
 "nbformat_minor": 2
}
